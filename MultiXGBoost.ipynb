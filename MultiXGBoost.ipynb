{
 "cells": [
  {
   "cell_type": "code",
   "execution_count": 1,
   "id": "24b5e098-a882-4c26-867b-a77b21dc863a",
   "metadata": {},
   "outputs": [],
   "source": [
    "import numpy as np\n",
    "import pandas as pd\n",
    "import matplotlib.pyplot as plt\n",
    "import seaborn as sns\n",
    "import warnings\n",
    "import category_encoders as ce\n",
    "from imblearn.over_sampling import SMOTE,ADASYN\n",
    "from collections import Counter\n",
    "from sklearn.metrics import mean_absolute_error, mean_squared_error, r2_score\n",
    "from sklearn.multioutput import MultiOutputRegressor\n",
    "from sklearn.ensemble import RandomForestRegressor\n",
    "from sklearn.model_selection import train_test_split\n",
    "from xgboost import XGBRegressor\n",
    "from sklearn.preprocessing import MinMaxScaler\n",
    "from xgboost import XGBRegressor\n",
    "from sklearn.model_selection import GridSearchCV\n",
    "import xgboost as xgb\n",
    "from sklearn.model_selection import RandomizedSearchCV\n",
    "from scipy.stats import randint, uniform"
   ]
  },
  {
   "cell_type": "code",
   "execution_count": 2,
   "id": "f4ea029c-26c0-4b9f-b532-dca5e05faf90",
   "metadata": {},
   "outputs": [],
   "source": [
    "pd.set_option('display.max_columns', None)\n",
    "pd.set_option('display.width', None)\n",
    "pd.set_option('display.float_format', lambda x: '%.3f' % x)"
   ]
  },
  {
   "cell_type": "code",
   "execution_count": 3,
   "id": "3907764d-5ffd-4403-b3fc-e5189a048f04",
   "metadata": {},
   "outputs": [],
   "source": [
    "df = pd.read_excel(\"C:/Users/koray/PycharmProjects/pythonProject/DATA SETS/yl11_dataset.xlsx\")"
   ]
  },
  {
   "cell_type": "code",
   "execution_count": 4,
   "id": "c938b373-8d80-41fd-a8a0-c669f4ed6e03",
   "metadata": {},
   "outputs": [
    {
     "data": {
      "text/html": [
       "<div>\n",
       "<style scoped>\n",
       "    .dataframe tbody tr th:only-of-type {\n",
       "        vertical-align: middle;\n",
       "    }\n",
       "\n",
       "    .dataframe tbody tr th {\n",
       "        vertical-align: top;\n",
       "    }\n",
       "\n",
       "    .dataframe thead th {\n",
       "        text-align: right;\n",
       "    }\n",
       "</style>\n",
       "<table border=\"1\" class=\"dataframe\">\n",
       "  <thead>\n",
       "    <tr style=\"text-align: right;\">\n",
       "      <th></th>\n",
       "      <th>su</th>\n",
       "      <th>klorofil miktarı</th>\n",
       "      <th>bitki örtü sıcaklığı</th>\n",
       "      <th>yaprak sap uzunluğu</th>\n",
       "      <th>yaprak ağırlığı</th>\n",
       "    </tr>\n",
       "  </thead>\n",
       "  <tbody>\n",
       "    <tr>\n",
       "      <th>0</th>\n",
       "      <td>0</td>\n",
       "      <td>45.700</td>\n",
       "      <td>33.000</td>\n",
       "      <td>3.300</td>\n",
       "      <td>8.200</td>\n",
       "    </tr>\n",
       "    <tr>\n",
       "      <th>1</th>\n",
       "      <td>0</td>\n",
       "      <td>34.600</td>\n",
       "      <td>32.000</td>\n",
       "      <td>3.400</td>\n",
       "      <td>10.400</td>\n",
       "    </tr>\n",
       "    <tr>\n",
       "      <th>2</th>\n",
       "      <td>0</td>\n",
       "      <td>39.500</td>\n",
       "      <td>42.000</td>\n",
       "      <td>3.500</td>\n",
       "      <td>11.400</td>\n",
       "    </tr>\n",
       "    <tr>\n",
       "      <th>3</th>\n",
       "      <td>0</td>\n",
       "      <td>38.600</td>\n",
       "      <td>33.000</td>\n",
       "      <td>4.100</td>\n",
       "      <td>13.700</td>\n",
       "    </tr>\n",
       "    <tr>\n",
       "      <th>4</th>\n",
       "      <td>0</td>\n",
       "      <td>39.100</td>\n",
       "      <td>32.000</td>\n",
       "      <td>3.500</td>\n",
       "      <td>13.100</td>\n",
       "    </tr>\n",
       "  </tbody>\n",
       "</table>\n",
       "</div>"
      ],
      "text/plain": [
       "   su  klorofil miktarı  bitki örtü sıcaklığı  yaprak sap uzunluğu  \\\n",
       "0   0            45.700                33.000                3.300   \n",
       "1   0            34.600                32.000                3.400   \n",
       "2   0            39.500                42.000                3.500   \n",
       "3   0            38.600                33.000                4.100   \n",
       "4   0            39.100                32.000                3.500   \n",
       "\n",
       "   yaprak ağırlığı  \n",
       "0            8.200  \n",
       "1           10.400  \n",
       "2           11.400  \n",
       "3           13.700  \n",
       "4           13.100  "
      ]
     },
     "execution_count": 4,
     "metadata": {},
     "output_type": "execute_result"
    }
   ],
   "source": [
    "df.head()"
   ]
  },
  {
   "cell_type": "code",
   "execution_count": 5,
   "id": "0117c702-233b-4ebd-bfd0-a7c8ddb5dc4b",
   "metadata": {},
   "outputs": [
    {
     "data": {
      "text/plain": [
       "su                      0\n",
       "klorofil miktarı        0\n",
       "bitki örtü sıcaklığı    0\n",
       "yaprak sap uzunluğu     0\n",
       "yaprak ağırlığı         0\n",
       "dtype: int64"
      ]
     },
     "execution_count": 5,
     "metadata": {},
     "output_type": "execute_result"
    }
   ],
   "source": [
    "df.isnull().sum()"
   ]
  },
  {
   "cell_type": "code",
   "execution_count": 6,
   "id": "53e2a0ea-dbc1-4f89-9784-7eff3b833900",
   "metadata": {},
   "outputs": [],
   "source": [
    "def grab_col_names(dataframe, cat_th=10, car_th=20):\n",
    "    cat_cols = [col for col in dataframe.columns if dataframe[col].dtypes == \"O\"]\n",
    "    num_but_cat = [col for col in dataframe.columns if dataframe[col].nunique() < cat_th and dataframe[col].dtypes != \"O\"]\n",
    "    cat_but_car = [col for col in dataframe.columns if dataframe[col].nunique() > car_th and dataframe[col].dtypes == \"O\"]\n",
    "    cat_cols = cat_cols + num_but_cat\n",
    "    cat_cols = [col for col in cat_cols if col not in cat_but_car]\n",
    "    num_cols = [col for col in dataframe.columns if dataframe[col].dtypes != \"O\"]\n",
    "    num_cols = [col for col in num_cols if col not in num_but_cat]\n",
    "    print(f\"Observations: {dataframe.shape[0]}\")\n",
    "    print(f\"Variables: {dataframe.shape[1]}\")\n",
    "    print(f'cat_cols: {len(cat_cols)}')\n",
    "    print(f'num_cols: {len(num_cols)}')\n",
    "    print(f'cat_but_car: {len(cat_but_car)}')\n",
    "    print(f'num_but_cat: {len(num_but_cat)}')\n",
    "    return cat_cols, cat_but_car, num_cols"
   ]
  },
  {
   "cell_type": "code",
   "execution_count": 7,
   "id": "1c9f16c1-917c-49d3-9c97-7c833ccbad3a",
   "metadata": {},
   "outputs": [],
   "source": [
    "def outlier_thresholds(dataframe, variable, low_quantile=0.10, up_quantile=0.90):\n",
    "    quantile_one = dataframe[variable].quantile(low_quantile)\n",
    "    quantile_three = dataframe[variable].quantile(up_quantile)\n",
    "    interquantile_range = quantile_three - quantile_one\n",
    "    up_limit = quantile_three + 1.5 * interquantile_range\n",
    "    low_limit = quantile_one - 1.5 * interquantile_range\n",
    "    return low_limit, up_limit"
   ]
  },
  {
   "cell_type": "code",
   "execution_count": 8,
   "id": "3ae37dcc-afaa-4d33-b11e-5939da1dd056",
   "metadata": {},
   "outputs": [],
   "source": [
    "def check_outlier(dataframe, col_name):\n",
    "    low_limit, up_limit = outlier_thresholds(dataframe, col_name)\n",
    "    if dataframe[(dataframe[col_name] > up_limit) | (dataframe[col_name] < low_limit)].any(axis=None):\n",
    "        return True\n",
    "    else:\n",
    "        return False"
   ]
  },
  {
   "cell_type": "code",
   "execution_count": 9,
   "id": "4db1a29f-d57f-4ebb-9b27-3da871c0f765",
   "metadata": {},
   "outputs": [],
   "source": [
    "def replace_with_thresholds(dataframe, variable):\n",
    "    low_limit, up_limit = outlier_thresholds(dataframe, variable)\n",
    "    dataframe.loc[(dataframe[variable] < low_limit), variable] = low_limit\n",
    "    dataframe.loc[(dataframe[variable] > up_limit), variable] = up_limit"
   ]
  },
  {
   "cell_type": "code",
   "execution_count": 10,
   "id": "98aa13ff-b9f4-4661-90c1-6d25d0b78e92",
   "metadata": {},
   "outputs": [
    {
     "name": "stdout",
     "output_type": "stream",
     "text": [
      "Observations: 2115\n",
      "Variables: 5\n",
      "cat_cols: 1\n",
      "num_cols: 4\n",
      "cat_but_car: 0\n",
      "num_but_cat: 1\n"
     ]
    }
   ],
   "source": [
    "cat_cols, cat_but_car, num_cols = grab_col_names(df)"
   ]
  },
  {
   "cell_type": "code",
   "execution_count": 11,
   "id": "538a8024-cef7-4f7f-a3e1-1fc0f0b3aae8",
   "metadata": {},
   "outputs": [],
   "source": [
    "for col in num_cols:\n",
    "    replace_with_thresholds(df, col)"
   ]
  },
  {
   "cell_type": "code",
   "execution_count": 12,
   "id": "03d98140-5d85-4b48-8bbe-645f75e6c3f9",
   "metadata": {},
   "outputs": [
    {
     "data": {
      "text/html": [
       "<div>\n",
       "<style scoped>\n",
       "    .dataframe tbody tr th:only-of-type {\n",
       "        vertical-align: middle;\n",
       "    }\n",
       "\n",
       "    .dataframe tbody tr th {\n",
       "        vertical-align: top;\n",
       "    }\n",
       "\n",
       "    .dataframe thead th {\n",
       "        text-align: right;\n",
       "    }\n",
       "</style>\n",
       "<table border=\"1\" class=\"dataframe\">\n",
       "  <thead>\n",
       "    <tr style=\"text-align: right;\">\n",
       "      <th></th>\n",
       "      <th>su</th>\n",
       "      <th>klorofil miktarı</th>\n",
       "      <th>bitki örtü sıcaklığı</th>\n",
       "      <th>yaprak sap uzunluğu</th>\n",
       "      <th>yaprak ağırlığı</th>\n",
       "    </tr>\n",
       "  </thead>\n",
       "  <tbody>\n",
       "    <tr>\n",
       "      <th>0</th>\n",
       "      <td>0</td>\n",
       "      <td>45.700</td>\n",
       "      <td>33.000</td>\n",
       "      <td>3.300</td>\n",
       "      <td>8.200</td>\n",
       "    </tr>\n",
       "    <tr>\n",
       "      <th>1</th>\n",
       "      <td>0</td>\n",
       "      <td>34.600</td>\n",
       "      <td>32.000</td>\n",
       "      <td>3.400</td>\n",
       "      <td>10.400</td>\n",
       "    </tr>\n",
       "    <tr>\n",
       "      <th>2</th>\n",
       "      <td>0</td>\n",
       "      <td>39.500</td>\n",
       "      <td>42.000</td>\n",
       "      <td>3.500</td>\n",
       "      <td>11.400</td>\n",
       "    </tr>\n",
       "    <tr>\n",
       "      <th>3</th>\n",
       "      <td>0</td>\n",
       "      <td>38.600</td>\n",
       "      <td>33.000</td>\n",
       "      <td>4.100</td>\n",
       "      <td>13.700</td>\n",
       "    </tr>\n",
       "    <tr>\n",
       "      <th>4</th>\n",
       "      <td>0</td>\n",
       "      <td>39.100</td>\n",
       "      <td>32.000</td>\n",
       "      <td>3.500</td>\n",
       "      <td>13.100</td>\n",
       "    </tr>\n",
       "  </tbody>\n",
       "</table>\n",
       "</div>"
      ],
      "text/plain": [
       "   su  klorofil miktarı  bitki örtü sıcaklığı  yaprak sap uzunluğu  \\\n",
       "0   0            45.700                33.000                3.300   \n",
       "1   0            34.600                32.000                3.400   \n",
       "2   0            39.500                42.000                3.500   \n",
       "3   0            38.600                33.000                4.100   \n",
       "4   0            39.100                32.000                3.500   \n",
       "\n",
       "   yaprak ağırlığı  \n",
       "0            8.200  \n",
       "1           10.400  \n",
       "2           11.400  \n",
       "3           13.700  \n",
       "4           13.100  "
      ]
     },
     "execution_count": 12,
     "metadata": {},
     "output_type": "execute_result"
    }
   ],
   "source": [
    "df.head()"
   ]
  },
  {
   "cell_type": "code",
   "execution_count": 13,
   "id": "fa90a42e-46e7-4400-a9e1-5aff1eb020e6",
   "metadata": {},
   "outputs": [
    {
     "name": "stdout",
     "output_type": "stream",
     "text": [
      "Orijinal veri sınıf dağılımı: Counter({0: 303, 1: 303, 3: 303, 5: 303, 2: 302, 6: 301, 4: 300})\n",
      "SMOTE sonrası sınıf dağılımı: Counter({0: 2250, 1: 2250, 2: 2250, 3: 2250, 4: 2250, 5: 2250, 6: 2250})\n",
      "       klorofil miktarı  bitki örtü sıcaklığı  yaprak sap uzunluğu  \\\n",
      "0                45.700                33.000                3.300   \n",
      "1                34.600                32.000                3.400   \n",
      "2                39.500                42.000                3.500   \n",
      "3                38.600                33.000                4.100   \n",
      "4                39.100                32.000                3.500   \n",
      "...                 ...                   ...                  ...   \n",
      "15745            50.227                30.794                6.700   \n",
      "15746            47.073                30.608                6.165   \n",
      "15747            49.640                34.000                7.073   \n",
      "15748            58.957                30.204                6.700   \n",
      "15749            57.400                33.508                6.700   \n",
      "\n",
      "       yaprak ağırlığı  su  \n",
      "0                8.200   0  \n",
      "1               10.400   0  \n",
      "2               11.400   0  \n",
      "3               13.700   0  \n",
      "4               13.100   0  \n",
      "...                ...  ..  \n",
      "15745           27.900   6  \n",
      "15746           22.445   6  \n",
      "15747           37.554   6  \n",
      "15748           27.900   6  \n",
      "15749           27.697   6  \n",
      "\n",
      "[15750 rows x 5 columns]\n"
     ]
    },
    {
     "name": "stderr",
     "output_type": "stream",
     "text": [
      "C:\\Users\\koray\\anaconda3\\Lib\\site-packages\\sklearn\\base.py:474: FutureWarning: `BaseEstimator._validate_data` is deprecated in 1.6 and will be removed in 1.7. Use `sklearn.utils.validation.validate_data` instead. This function becomes public and is part of the scikit-learn developer API.\n",
      "  warnings.warn(\n"
     ]
    }
   ],
   "source": [
    "X = df.drop(columns=[\"su\"])\n",
    "y = df[\"su\"]\n",
    "\n",
    "sampling_strategy = {0: 2250, 1: 2250, 2: 2250, 3:2250, 4:2250, 5:2250, 6:2250}\n",
    "\n",
    "smote = SMOTE(sampling_strategy=sampling_strategy, random_state=42)\n",
    "X_resampled, y_resampled = smote.fit_resample(X, y)\n",
    "\n",
    "print(\"Orijinal veri sınıf dağılımı:\", Counter(y))\n",
    "print(\"SMOTE sonrası sınıf dağılımı:\", Counter(y_resampled))\n",
    "\n",
    "df_resampled = pd.concat([pd.DataFrame(X_resampled, columns=X.columns), pd.DataFrame(y_resampled, columns=[\"su\"])], axis=1)\n",
    "print(df_resampled)"
   ]
  },
  {
   "cell_type": "code",
   "execution_count": 14,
   "id": "016c66ad-141f-4681-94af-b901a59961e7",
   "metadata": {},
   "outputs": [
    {
     "name": "stdout",
     "output_type": "stream",
     "text": [
      "Orijinal veri seti istatistiksel özellikleri:\n",
      "            su  klorofil miktarı  bitki örtü sıcaklığı  yaprak sap uzunluğu  \\\n",
      "count 2115.000          2115.000              2115.000             2115.000   \n",
      "mean     2.996            45.839                34.518                5.492   \n",
      "std      2.001             6.001                 3.829                1.268   \n",
      "min      0.000            24.900                16.500                0.000   \n",
      "25%      1.000            41.800                32.000                4.400   \n",
      "50%      3.000            45.800                34.000                5.700   \n",
      "75%      5.000            50.100                38.000                6.500   \n",
      "max      6.000            78.000                52.500               11.000   \n",
      "\n",
      "       yaprak ağırlığı  \n",
      "count         2115.000  \n",
      "mean            20.736  \n",
      "std              7.436  \n",
      "min              3.000  \n",
      "25%             14.500  \n",
      "50%             20.800  \n",
      "75%             26.000  \n",
      "max             54.200  \n",
      "\n",
      "Yeni veri seti istatistiksel özellikleri:\n",
      "       klorofil miktarı  bitki örtü sıcaklığı  yaprak sap uzunluğu  \\\n",
      "count         15750.000             15750.000            15750.000   \n",
      "mean             45.805                34.507                5.486   \n",
      "std               5.846                 3.688                1.215   \n",
      "min              24.900                16.500                0.000   \n",
      "25%              41.800                31.885                4.400   \n",
      "50%              45.805                34.000                5.659   \n",
      "75%              50.090                37.826                6.500   \n",
      "max              78.000                52.500               11.000   \n",
      "\n",
      "       yaprak ağırlığı        su  \n",
      "count        15750.000 15750.000  \n",
      "mean            20.744     3.000  \n",
      "std              7.311     2.000  \n",
      "min              3.000     0.000  \n",
      "25%             14.500     1.000  \n",
      "50%             20.804     3.000  \n",
      "75%             26.000     5.000  \n",
      "max             54.200     6.000  \n"
     ]
    }
   ],
   "source": [
    "# Orijinal veri setinin temel istatistiksel özellikleri\n",
    "print(\"Orijinal veri seti istatistiksel özellikleri:\")\n",
    "print(df.describe())\n",
    "\n",
    "# Yeni veri setinin temel istatistiksel özellikleri\n",
    "print(\"\\nYeni veri seti istatistiksel özellikleri:\")\n",
    "print(df_resampled.describe())"
   ]
  },
  {
   "cell_type": "code",
   "execution_count": 15,
   "id": "583d8616-16b8-4fd6-9e08-a72d32640b37",
   "metadata": {},
   "outputs": [
    {
     "data": {
      "image/png": "[encoded data removed]",
      "text/plain": [
       "<Figure size 1000x800 with 6 Axes>"
      ]
     },
     "metadata": {},
     "output_type": "display_data"
    },
    {
     "data": {
      "image/png": "[encoded data removed]",
      "text/plain": [
       "<Figure size 1000x800 with 6 Axes>"
      ]
     },
     "metadata": {},
     "output_type": "display_data"
    }
   ],
   "source": [
    "# Orijinal veri seti için histogram\n",
    "df.hist(figsize=(10, 8), bins=30)\n",
    "plt.suptitle(\"Orijinal Veri Seti Dağılımları\")\n",
    "plt.show()\n",
    "\n",
    "# Yeni veri seti için histogram\n",
    "df_resampled.hist(figsize=(10, 8), bins=30)\n",
    "plt.suptitle(\"Yeni Veri Seti Dağılımları\")\n",
    "plt.show()"
   ]
  },
  {
   "cell_type": "code",
   "execution_count": 16,
   "id": "4658eb3e-2d56-447f-81dc-a8ae810b1857",
   "metadata": {},
   "outputs": [],
   "source": [
    "df=df_resampled"
   ]
  },
  {
   "cell_type": "code",
   "execution_count": 17,
   "id": "376ea61b-cc45-42e4-9ddc-b2b0205a7827",
   "metadata": {},
   "outputs": [
    {
     "data": {
      "image/png": "[encoded data removed]",
      "text/plain": [
       "<Figure size 1000x800 with 1 Axes>"
      ]
     },
     "metadata": {},
     "output_type": "display_data"
    }
   ],
   "source": [
    "df[\"yaprak ağırlığı\"].hist(figsize=(10, 8), bins=30)\n",
    "plt.suptitle(\"Yaprak Ağırlığı\")\n",
    "plt.show()"
   ]
  },
  {
   "cell_type": "code",
   "execution_count": 18,
   "id": "2e267cc4-d18c-47a5-b83c-7a298beadf60",
   "metadata": {},
   "outputs": [
    {
     "data": {
      "image/png": "[encoded data removed]",
      "text/plain": [
       "<Figure size 1000x800 with 1 Axes>"
      ]
     },
     "metadata": {},
     "output_type": "display_data"
    }
   ],
   "source": [
    "np.log1p(df['yaprak ağırlığı']).hist(figsize=(10, 8), bins=30)\n",
    "plt.suptitle(\"Yaprak Ağırlığı\")\n",
    "plt.show()"
   ]
  },
  {
   "cell_type": "code",
   "execution_count": 19,
   "id": "10617f33-0a2b-46ea-9daf-294ccfc4382d",
   "metadata": {},
   "outputs": [
    {
     "name": "stdout",
     "output_type": "stream",
     "text": [
      "Mean Absolute Error (MAE): 1.3502476215362549\n",
      "Root Mean Squared Error (RMSE): 2.5663538539885407\n",
      "R-squared (R²): 0.7891303300857544\n"
     ]
    }
   ],
   "source": [
    "X = df[['su', 'klorofil miktarı', 'bitki örtü sıcaklığı']]  # Bağımsız değişkenler\n",
    "y = df[['yaprak sap uzunluğu', 'yaprak ağırlığı']]  # Bağımlı değişkenler\n",
    "\n",
    "# Eğitim ve test verisi\n",
    "X_train, X_test, y_train, y_test = train_test_split(X, y, test_size=0.2, random_state=42)\n",
    "\n",
    "# RandomForestRegressor modelini kullanarak MultiOutputRegressor oluşturuyoruz\n",
    "model = XGBRegressor(n_estimators=100, random_state=42)\n",
    "multi_output_model = MultiOutputRegressor(model)\n",
    "\n",
    "# Modeli eğit\n",
    "multi_output_model.fit(X_train, y_train)\n",
    "\n",
    "# Test verisi ile tahmin yap\n",
    "y_pred = multi_output_model.predict(X_test)\n",
    "\n",
    "# Metrikleri hesapla\n",
    "mae = mean_absolute_error(y_test, y_pred)\n",
    "rmse = np.sqrt(mean_squared_error(y_test, y_pred))\n",
    "r2 = r2_score(y_test, y_pred)\n",
    "\n",
    "# Sonuçları yazdır\n",
    "print(f\"Mean Absolute Error (MAE): {mae}\")\n",
    "print(f\"Root Mean Squared Error (RMSE): {rmse}\")\n",
    "print(f\"R-squared (R²): {r2}\")"
   ]
  },
  {
   "cell_type": "code",
   "execution_count": 20,
   "id": "db0e88b4-5323-4f8a-ac27-d594c9a5e1a3",
   "metadata": {},
   "outputs": [],
   "source": [
    "df['klorofil_su_etkileşim'] = df['klorofil miktarı'] * (df['su'])"
   ]
  },
  {
   "cell_type": "code",
   "execution_count": 21,
   "id": "9b45fd52-5c98-48ac-a331-b1bc05ce2115",
   "metadata": {},
   "outputs": [],
   "source": [
    "df['sıcaklık_su_oranı'] = df['bitki örtü sıcaklığı'] / (df['su'] + 1)"
   ]
  },
  {
   "cell_type": "code",
   "execution_count": 22,
   "id": "e7d4c110-4379-4e80-91a7-c7a6422f5c60",
   "metadata": {},
   "outputs": [],
   "source": [
    "df[\"Klorofil_x_Sıcaklık\"] = df[\"klorofil miktarı\"] * df[\"bitki örtü sıcaklığı\"]"
   ]
  },
  {
   "cell_type": "code",
   "execution_count": 23,
   "id": "4ab12f43-fb41-4a23-92ca-5ff921dd2cec",
   "metadata": {},
   "outputs": [],
   "source": [
    "df = pd.get_dummies(df, columns=[\"su\"], prefix='su', dtype=int)"
   ]
  },
  {
   "cell_type": "code",
   "execution_count": 24,
   "id": "1ee17829-aa01-45f6-b300-15cf8b68c45d",
   "metadata": {},
   "outputs": [
    {
     "data": {
      "image/png": "[encoded data removed]",
      "text/plain": [
       "<Figure size 1000x600 with 1 Axes>"
      ]
     },
     "metadata": {},
     "output_type": "display_data"
    },
    {
     "name": "stdout",
     "output_type": "stream",
     "text": [
      "Mean Absolute Error (MAE): 1.2905454635620117\n",
      "Root Mean Squared Error (RMSE): 2.544202842051212\n",
      "R-squared (R²): 0.7990466356277466\n"
     ]
    }
   ],
   "source": [
    "# Bağımsız ve bağımlı değişkenleri ayır\n",
    "X = df.drop(columns=['yaprak sap uzunluğu', 'yaprak ağırlığı'])\n",
    "y = df[['yaprak sap uzunluğu', 'yaprak ağırlığı']]\n",
    "\n",
    "# Eğitim ve test verisi\n",
    "X_train, X_test, y_train, y_test = train_test_split(X, y, test_size=0.2, random_state=42)\n",
    "\n",
    "# XGBoost modelini kullanarak MultiOutputRegressor oluştur\n",
    "model = XGBRegressor(n_estimators=100, random_state=42)\n",
    "multi_output_model = MultiOutputRegressor(model)\n",
    "\n",
    "# Modeli eğit\n",
    "multi_output_model.fit(X_train, y_train)\n",
    "\n",
    "# Test seti üzerinde tahmin yap\n",
    "y_pred = multi_output_model.predict(X_test)\n",
    "\n",
    "# Özellik önemini görselleştir\n",
    "feature_importances = multi_output_model.estimators_[0].feature_importances_  # İlk çıktı için önem\n",
    "features = X.columns\n",
    "\n",
    "plt.figure(figsize=(10, 6))\n",
    "sns.barplot(x=feature_importances, y=features)\n",
    "plt.title(\"Özellik Önem Skorları\")\n",
    "plt.show()\n",
    "\n",
    "# Metrikleri hesapla\n",
    "mae = mean_absolute_error(y_test, y_pred)\n",
    "rmse = np.sqrt(mean_squared_error(y_test, y_pred))\n",
    "r2 = r2_score(y_test, y_pred)\n",
    "\n",
    "# Sonuçları yazdır\n",
    "print(f\"Mean Absolute Error (MAE): {mae}\")\n",
    "print(f\"Root Mean Squared Error (RMSE): {rmse}\")\n",
    "print(f\"R-squared (R²): {r2}\")"
   ]
  },
  {
   "cell_type": "code",
   "execution_count": 25,
   "id": "b74e2296-89ca-4eb0-9db3-b4cc5fc4fc24",
   "metadata": {},
   "outputs": [
    {
     "name": "stdout",
     "output_type": "stream",
     "text": [
      "   klorofil miktarı  bitki örtü sıcaklığı  yaprak sap uzunluğu  \\\n",
      "0             0.392                 0.458                0.300   \n",
      "1             0.183                 0.431                0.309   \n",
      "2             0.275                 0.708                0.318   \n",
      "3             0.258                 0.458                0.373   \n",
      "4             0.267                 0.431                0.318   \n",
      "\n",
      "   yaprak ağırlığı  klorofil_su_etkileşim  sıcaklık_su_oranı  \\\n",
      "0            0.102                  0.000              0.660   \n",
      "1            0.145                  0.000              0.638   \n",
      "2            0.164                  0.000              0.864   \n",
      "3            0.209                  0.000              0.660   \n",
      "4            0.197                  0.000              0.638   \n",
      "\n",
      "   Klorofil_x_Sıcaklık  su_0  su_1  su_2  su_3  su_4  su_5  su_6  \n",
      "0                0.391 1.000 0.000 0.000 0.000 0.000 0.000 0.000  \n",
      "1                0.198 1.000 0.000 0.000 0.000 0.000 0.000 0.000  \n",
      "2                0.464 1.000 0.000 0.000 0.000 0.000 0.000 0.000  \n",
      "3                0.278 1.000 0.000 0.000 0.000 0.000 0.000 0.000  \n",
      "4                0.267 1.000 0.000 0.000 0.000 0.000 0.000 0.000  \n"
     ]
    }
   ],
   "source": [
    "scaler = MinMaxScaler()\n",
    "df_scaled = scaler.fit_transform(df)  # Bu bir numpy.ndarray döner\n",
    "\n",
    "# Orijinal sütun isimlerini koruyarak yeniden pandas DataFrame'e çevirin\n",
    "df = pd.DataFrame(df_scaled, columns=df.columns)\n",
    "print(df.head())"
   ]
  },
  {
   "cell_type": "code",
   "execution_count": 26,
   "id": "f755562f-3a34-429f-9303-bfb0a25a850d",
   "metadata": {},
   "outputs": [
    {
     "name": "stdout",
     "output_type": "stream",
     "text": [
      "Bağımlı değişkenlerle diğer değişkenlerin korelasyonları:\n",
      "                        yaprak ağırlığı  yaprak sap uzunluğu\n",
      "klorofil_su_etkileşim            0.768                0.831\n",
      "klorofil miktarı                 0.441                0.498\n",
      "su_6                             0.423                0.428\n",
      "su_5                             0.340                0.383\n",
      "su_3                             0.154                0.116\n",
      "su_4                             0.097                0.148\n",
      "Klorofil_x_Sıcaklık              0.091                0.132\n",
      "su_2                            -0.091               -0.065\n",
      "su_1                            -0.375               -0.424\n",
      "bitki örtü sıcaklığı            -0.409               -0.424\n",
      "su_0                            -0.548               -0.586\n",
      "sıcaklık_su_oranı               -0.735               -0.791\n"
     ]
    }
   ],
   "source": [
    "# Korelasyon matrisini hesapla\n",
    "correlation_matrix = df.corr()\n",
    "\n",
    "# Bağımlı değişkenler ile diğer değişkenlerin korelasyonlarını çek\n",
    "dependent_vars = [\"yaprak ağırlığı\", \"yaprak sap uzunluğu\"]\n",
    "\n",
    "# Sadece bağımlı değişkenlerle diğer değişkenler arasındaki korelasyonları al\n",
    "target_corr = correlation_matrix[dependent_vars].drop(dependent_vars)\n",
    "\n",
    "# Sıralama (istenirse her sütunu ayrı ayrı sıralayabilirsiniz)\n",
    "sorted_corr = target_corr.sort_values(by=dependent_vars, ascending=False)\n",
    "\n",
    "print(\"Bağımlı değişkenlerle diğer değişkenlerin korelasyonları:\\n\", sorted_corr)\n"
   ]
  },
  {
   "cell_type": "code",
   "execution_count": 27,
   "id": "ffb0f095-5cab-43d9-9459-a19f086a5fc4",
   "metadata": {},
   "outputs": [
    {
     "data": {
      "text/html": [
       "<div>\n",
       "<style scoped>\n",
       "    .dataframe tbody tr th:only-of-type {\n",
       "        vertical-align: middle;\n",
       "    }\n",
       "\n",
       "    .dataframe tbody tr th {\n",
       "        vertical-align: top;\n",
       "    }\n",
       "\n",
       "    .dataframe thead th {\n",
       "        text-align: right;\n",
       "    }\n",
       "</style>\n",
       "<table border=\"1\" class=\"dataframe\">\n",
       "  <thead>\n",
       "    <tr style=\"text-align: right;\">\n",
       "      <th></th>\n",
       "      <th>klorofil miktarı</th>\n",
       "      <th>bitki örtü sıcaklığı</th>\n",
       "      <th>yaprak sap uzunluğu</th>\n",
       "      <th>yaprak ağırlığı</th>\n",
       "      <th>klorofil_su_etkileşim</th>\n",
       "      <th>sıcaklık_su_oranı</th>\n",
       "      <th>Klorofil_x_Sıcaklık</th>\n",
       "      <th>su_0</th>\n",
       "      <th>su_1</th>\n",
       "      <th>su_2</th>\n",
       "      <th>su_3</th>\n",
       "      <th>su_4</th>\n",
       "      <th>su_5</th>\n",
       "      <th>su_6</th>\n",
       "    </tr>\n",
       "  </thead>\n",
       "  <tbody>\n",
       "    <tr>\n",
       "      <th>0</th>\n",
       "      <td>0.392</td>\n",
       "      <td>0.458</td>\n",
       "      <td>0.300</td>\n",
       "      <td>0.102</td>\n",
       "      <td>0.000</td>\n",
       "      <td>0.660</td>\n",
       "      <td>0.391</td>\n",
       "      <td>1.000</td>\n",
       "      <td>0.000</td>\n",
       "      <td>0.000</td>\n",
       "      <td>0.000</td>\n",
       "      <td>0.000</td>\n",
       "      <td>0.000</td>\n",
       "      <td>0.000</td>\n",
       "    </tr>\n",
       "    <tr>\n",
       "      <th>1</th>\n",
       "      <td>0.183</td>\n",
       "      <td>0.431</td>\n",
       "      <td>0.309</td>\n",
       "      <td>0.145</td>\n",
       "      <td>0.000</td>\n",
       "      <td>0.638</td>\n",
       "      <td>0.198</td>\n",
       "      <td>1.000</td>\n",
       "      <td>0.000</td>\n",
       "      <td>0.000</td>\n",
       "      <td>0.000</td>\n",
       "      <td>0.000</td>\n",
       "      <td>0.000</td>\n",
       "      <td>0.000</td>\n",
       "    </tr>\n",
       "    <tr>\n",
       "      <th>2</th>\n",
       "      <td>0.275</td>\n",
       "      <td>0.708</td>\n",
       "      <td>0.318</td>\n",
       "      <td>0.164</td>\n",
       "      <td>0.000</td>\n",
       "      <td>0.864</td>\n",
       "      <td>0.464</td>\n",
       "      <td>1.000</td>\n",
       "      <td>0.000</td>\n",
       "      <td>0.000</td>\n",
       "      <td>0.000</td>\n",
       "      <td>0.000</td>\n",
       "      <td>0.000</td>\n",
       "      <td>0.000</td>\n",
       "    </tr>\n",
       "    <tr>\n",
       "      <th>3</th>\n",
       "      <td>0.258</td>\n",
       "      <td>0.458</td>\n",
       "      <td>0.373</td>\n",
       "      <td>0.209</td>\n",
       "      <td>0.000</td>\n",
       "      <td>0.660</td>\n",
       "      <td>0.278</td>\n",
       "      <td>1.000</td>\n",
       "      <td>0.000</td>\n",
       "      <td>0.000</td>\n",
       "      <td>0.000</td>\n",
       "      <td>0.000</td>\n",
       "      <td>0.000</td>\n",
       "      <td>0.000</td>\n",
       "    </tr>\n",
       "    <tr>\n",
       "      <th>4</th>\n",
       "      <td>0.267</td>\n",
       "      <td>0.431</td>\n",
       "      <td>0.318</td>\n",
       "      <td>0.197</td>\n",
       "      <td>0.000</td>\n",
       "      <td>0.638</td>\n",
       "      <td>0.267</td>\n",
       "      <td>1.000</td>\n",
       "      <td>0.000</td>\n",
       "      <td>0.000</td>\n",
       "      <td>0.000</td>\n",
       "      <td>0.000</td>\n",
       "      <td>0.000</td>\n",
       "      <td>0.000</td>\n",
       "    </tr>\n",
       "  </tbody>\n",
       "</table>\n",
       "</div>"
      ],
      "text/plain": [
       "   klorofil miktarı  bitki örtü sıcaklığı  yaprak sap uzunluğu  \\\n",
       "0             0.392                 0.458                0.300   \n",
       "1             0.183                 0.431                0.309   \n",
       "2             0.275                 0.708                0.318   \n",
       "3             0.258                 0.458                0.373   \n",
       "4             0.267                 0.431                0.318   \n",
       "\n",
       "   yaprak ağırlığı  klorofil_su_etkileşim  sıcaklık_su_oranı  \\\n",
       "0            0.102                  0.000              0.660   \n",
       "1            0.145                  0.000              0.638   \n",
       "2            0.164                  0.000              0.864   \n",
       "3            0.209                  0.000              0.660   \n",
       "4            0.197                  0.000              0.638   \n",
       "\n",
       "   Klorofil_x_Sıcaklık  su_0  su_1  su_2  su_3  su_4  su_5  su_6  \n",
       "0                0.391 1.000 0.000 0.000 0.000 0.000 0.000 0.000  \n",
       "1                0.198 1.000 0.000 0.000 0.000 0.000 0.000 0.000  \n",
       "2                0.464 1.000 0.000 0.000 0.000 0.000 0.000 0.000  \n",
       "3                0.278 1.000 0.000 0.000 0.000 0.000 0.000 0.000  \n",
       "4                0.267 1.000 0.000 0.000 0.000 0.000 0.000 0.000  "
      ]
     },
     "execution_count": 27,
     "metadata": {},
     "output_type": "execute_result"
    }
   ],
   "source": [
    "df.head()"
   ]
  },
  {
   "cell_type": "code",
   "execution_count": 28,
   "id": "bfa9ae0b-d242-4b55-bf64-4419b1456a8c",
   "metadata": {},
   "outputs": [
    {
     "name": "stdout",
     "output_type": "stream",
     "text": [
      "Mean Absolute Error (MAE): 0.03525187075138092\n",
      "Root Mean Squared Error (RMSE): 0.056172035744958326\n",
      "R-squared (R²): 0.8093571662902832\n"
     ]
    }
   ],
   "source": [
    "# Bağımsız ve bağımlı değişkenleri ayır\n",
    "X = df.drop(columns=[\"yaprak ağırlığı\", \"yaprak sap uzunluğu\"])  # İki bağımlı değişken olduğunda, her ikisini de 'y' değişkeninden çıkarıyoruz.\n",
    "y = df[['yaprak ağırlığı', 'yaprak sap uzunluğu']]  # Burada her iki bağımlı değişkeni dahil ediyoruz.\n",
    "\n",
    "# Eğitim ve test verisi\n",
    "X_train, X_test, y_train, y_test = train_test_split(X, y, test_size=0.2, random_state=42)\n",
    "\n",
    "# XGBoost modelini kullanarak MultiOutputRegressor oluştur\n",
    "xgb_model = XGBRegressor(\n",
    "    n_estimators=1000,        \n",
    "    learning_rate=0.01,       \n",
    "    max_depth=8,              \n",
    "    subsample=0.8,            \n",
    "    colsample_bytree=0.8,     \n",
    "    random_state=42\n",
    ")\n",
    "\n",
    "# MultiOutputRegressor ile model oluştur\n",
    "multi_output_model = MultiOutputRegressor(xgb_model)\n",
    "\n",
    "# Modeli eğit\n",
    "multi_output_model.fit(X_train, y_train)\n",
    "\n",
    "# Test seti üzerinde tahmin yap\n",
    "y_pred = multi_output_model.predict(X_test)\n",
    "\n",
    "# Metrikleri hesapla\n",
    "mae = mean_absolute_error(y_test, y_pred)\n",
    "rmse = np.sqrt(mean_squared_error(y_test, y_pred))\n",
    "r2 = r2_score(y_test, y_pred)\n",
    "\n",
    "# Sonuçları yazdır\n",
    "print(f\"Mean Absolute Error (MAE): {mae}\")\n",
    "print(f\"Root Mean Squared Error (RMSE): {rmse}\")\n",
    "print(f\"R-squared (R²): {r2}\")\n"
   ]
  },
  {
   "cell_type": "code",
   "execution_count": 29,
   "id": "9e0a0ef2-c9ba-47b6-a32d-97374ad75885",
   "metadata": {},
   "outputs": [
    {
     "name": "stdout",
     "output_type": "stream",
     "text": [
      "Mean Absolute Error (MAE): 0.03503480926156044\n",
      "Root Mean Squared Error (RMSE): 0.0559557541773067\n",
      "R-squared (R²): 0.8106504678726196\n"
     ]
    }
   ],
   "source": [
    "X = df.drop(columns=[\"yaprak ağırlığı\", \"yaprak sap uzunluğu\"])\n",
    "y = df[['yaprak ağırlığı', 'yaprak sap uzunluğu']]\n",
    "\n",
    "# Log dönüşümü yap (her iki bağımlı değişken için)\n",
    "y_log = np.log1p(y)\n",
    "\n",
    "# Eğitim ve test verisi\n",
    "X_train, X_test, y_train, y_test = train_test_split(X, y_log, test_size=0.2, random_state=42)\n",
    "\n",
    "# XGBoost modelini kullanarak MultiOutputRegressor oluştur\n",
    "xgb_model = XGBRegressor(\n",
    "    n_estimators=1000,        \n",
    "    learning_rate=0.01,       \n",
    "    max_depth=8,              \n",
    "    subsample=0.8,            \n",
    "    colsample_bytree=0.8,     \n",
    "    random_state=42\n",
    ")\n",
    "\n",
    "# MultiOutputRegressor ile model oluştur\n",
    "multi_output_model = MultiOutputRegressor(xgb_model)\n",
    "\n",
    "# Modeli eğit\n",
    "multi_output_model.fit(X_train, y_train)\n",
    "\n",
    "# Test seti üzerinde tahmin yap\n",
    "y_pred_log = multi_output_model.predict(X_test)\n",
    "\n",
    "# Ters log dönüşümünü yap\n",
    "y_pred_actual = np.expm1(y_pred_log)\n",
    "y_test_actual = np.expm1(y_test)\n",
    "\n",
    "# Metrikleri hesapla\n",
    "mae = mean_absolute_error(y_test_actual, y_pred_actual)\n",
    "rmse = np.sqrt(mean_squared_error(y_test_actual, y_pred_actual))\n",
    "r2 = r2_score(y_test_actual, y_pred_actual)\n",
    "\n",
    "# Sonuçları yazdır\n",
    "print(f\"Mean Absolute Error (MAE): {mae}\")\n",
    "print(f\"Root Mean Squared Error (RMSE): {rmse}\")\n",
    "print(f\"R-squared (R²): {r2}\")"
   ]
  },
  {
   "cell_type": "code",
   "execution_count": 30,
   "id": "2fb21bb5-b9c4-402f-9ee8-d4c4b565d847",
   "metadata": {
    "scrolled": true
   },
   "outputs": [
    {
     "name": "stdout",
     "output_type": "stream",
     "text": [
      "Fitting 5 folds for each of 50 candidates, totalling 250 fits\n",
      "Best Parameters: {'estimator__alpha': 0.42720590636899725, 'estimator__colsample_bytree': 0.9721461166512687, 'estimator__gamma': 0.0013904261062381408, 'estimator__lambda': 0.5085978420620526, 'estimator__learning_rate': 0.047566990283390106, 'estimator__max_depth': 10, 'estimator__n_estimators': 1348, 'estimator__subsample': 0.8239730734667366}\n",
      "Best Cross-Validation Score (MAE): 0.027551402524113654\n"
     ]
    }
   ],
   "source": [
    "# Veri setinde bağımsız ve bağımlı değişkenlerin ayrılması\n",
    "X = df.drop(columns=[\"yaprak ağırlığı\", \"yaprak sap uzunluğu\"])  # Bağımsız değişkenler\n",
    "y = df[['yaprak ağırlığı', 'yaprak sap uzunluğu']]              # Orijinal bağımlı değişkenler\n",
    "\n",
    "# Log dönüşümü (np.log1p: sıfır veya pozitif değerlere uygundur)\n",
    "y_log = np.log1p(y)\n",
    "\n",
    "# Eğitim ve test verisinin oluşturulması (burada log dönüşümlü y kullanılıyor)\n",
    "X_train, X_test, y_train, y_test = train_test_split(X, y_log, test_size=0.2, random_state=42)\n",
    "\n",
    "# XGBoost regressor nesnesi\n",
    "model = xgb.XGBRegressor(objective='reg:squarederror')\n",
    "\n",
    "# MultiOutputRegressor ile model sarma\n",
    "multi_output_model = MultiOutputRegressor(model)\n",
    "\n",
    "# Hiperparametre aralıkları\n",
    "param_distributions = {\n",
    "    'estimator__alpha': uniform(0.1, 0.4),               # 0.1 ile 0.5 arasında sürekli değerler\n",
    "    'estimator__lambda': uniform(0.1, 0.8),              # 0.1 ile 0.9 arasında sürekli değerler\n",
    "    'estimator__n_estimators': randint(100, 1500),       # 100 ile 1500 arasında tamsayılar\n",
    "    'estimator__max_depth': randint(6, 11),              # 6 ile 10 arasında tamsayılar\n",
    "    'estimator__learning_rate': uniform(0.01, 0.09),     # 0.01 ile 0.1 arasında sürekli değerler\n",
    "    'estimator__subsample': uniform(0.8, 0.2),           # 0.8 ile 1.0 arasında sürekli değerler\n",
    "    'estimator__colsample_bytree': uniform(0.8, 0.2),    # 0.8 ile 1.0 arasında sürekli değerler\n",
    "    'estimator__gamma': uniform(0, 0.2)                  # 0 ile 0.2 arasında sürekli değerler\n",
    "}\n",
    "\n",
    "# RandomizedSearchCV ile hiperparametre optimizasyonu\n",
    "random_search = RandomizedSearchCV(\n",
    "    estimator=multi_output_model,\n",
    "    param_distributions=param_distributions,\n",
    "    n_iter=50,                        # Denenecek rastgele kombinasyon sayısı\n",
    "    cv=5,\n",
    "    scoring='neg_mean_absolute_error',\n",
    "    n_jobs=-1,\n",
    "    random_state=42,\n",
    "    verbose=2\n",
    ")\n",
    "\n",
    "# Hiperparametre araması ile modeli eğit\n",
    "random_search.fit(X_train, y_train)\n",
    "\n",
    "# En iyi parametrelerin ve skorun yazdırılması\n",
    "print(f\"Best Parameters: {random_search.best_params_}\")\n",
    "print(f\"Best Cross-Validation Score (MAE): {-random_search.best_score_}\")"
   ]
  },
  {
   "cell_type": "code",
   "execution_count": 31,
   "id": "57f03599-8959-498d-9a51-86309291772e",
   "metadata": {},
   "outputs": [
    {
     "name": "stdout",
     "output_type": "stream",
     "text": [
      "Mean Absolute Error (MAE): 0.037448491901159286\n",
      "Root Mean Squared Error (RMSE): 0.057786490737048696\n",
      "R-squared (R²): 0.7941576838493347\n"
     ]
    }
   ],
   "source": [
    "# En iyi parametrelerle yeni model oluşturma\n",
    "best_model = MultiOutputRegressor(\n",
    "    xgb.XGBRegressor(\n",
    "        objective='reg:squarederror',\n",
    "        n_estimators=random_search.best_params_['estimator__n_estimators'],\n",
    "        max_depth=random_search.best_params_['estimator__max_depth'],\n",
    "        learning_rate=random_search.best_params_['estimator__learning_rate'],\n",
    "        alpha=random_search.best_params_['estimator__alpha'],\n",
    "        reg_lambda=random_search.best_params_['estimator__lambda'],\n",
    "        subsample=random_search.best_params_['estimator__subsample'],\n",
    "        colsample_bytree=random_search.best_params_['estimator__colsample_bytree'],\n",
    "        gamma=random_search.best_params_['estimator__gamma']\n",
    "    )\n",
    ")\n",
    "\n",
    "# En iyi model ile eğitim\n",
    "best_model.fit(X_train, y_train)\n",
    "\n",
    "# Test seti üzerinde tahmin yapma (tahminler log ölçekli olacaktır)\n",
    "y_pred_log = best_model.predict(X_test)\n",
    "\n",
    "# Ters log dönüşümü ile orijinal ölçeğe çevirme\n",
    "y_pred = np.expm1(y_pred_log)\n",
    "y_test_actual = np.expm1(y_test)\n",
    "\n",
    "# Performans metriklerinin hesaplanması\n",
    "mae = mean_absolute_error(y_test_actual, y_pred)\n",
    "rmse = np.sqrt(mean_squared_error(y_test_actual, y_pred))\n",
    "r2 = r2_score(y_test_actual, y_pred)\n",
    "\n",
    "# Sonuçların yazdırılması\n",
    "print(f\"Mean Absolute Error (MAE): {mae}\")\n",
    "print(f\"Root Mean Squared Error (RMSE): {rmse}\")\n",
    "print(f\"R-squared (R²): {r2}\")"
   ]
  },
  {
   "cell_type": "markdown",
   "id": "8f20d19f-2d7e-4991-95ef-981e37eb2278",
   "metadata": {},
   "source": []
  }
 ],
 "metadata": {
  "kernelspec": {
   "display_name": "Python 3 (ipykernel)",
   "language": "python",
   "name": "python3"
  },
  "language_info": {
   "codemirror_mode": {
    "name": "ipython",
    "version": 3
   },
   "file_extension": ".py",
   "mimetype": "text/x-python",
   "name": "python",
   "nbconvert_exporter": "python",
   "pygments_lexer": "ipython3",
   "version": "3.12.7"
  }
 },
 "nbformat": 4,
 "nbformat_minor": 5
}
